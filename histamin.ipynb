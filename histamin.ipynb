{
 "cells": [
  {
   "cell_type": "code",
   "execution_count": null,
   "metadata": {},
   "outputs": [],
   "source": [
    "#!pip install pivottablejs\n",
    "#!pip3 install qgrid\n",
    "#!pip3 install openpyxl "
   ]
  },
  {
   "cell_type": "code",
   "execution_count": null,
   "metadata": {},
   "outputs": [],
   "source": [
    "from __future__ import print_function\n",
    "from ipywidgets import interact, interactive, fixed, interact_manual\n",
    "import ipywidgets as widgets\n",
    "from IPython.display import display\n",
    "import pandas as pd\n",
    "import numpy as np\n",
    "\n",
    "pd.set_option(\"display.max_rows\", None, \"display.max_columns\", None, 'display.max_colwidth', None)\n",
    "language = \"ENG\"\n",
    "df=pd.read_excel(f\"Histamin_{language}.xlsx\").fillna(\"\")\n",
    "ingredient=\"Ingredient\"\n",
    "zutat=df.loc[:,ingredient]\n",
    "zutate=zutat.values.tolist()\n",
    "\n",
    "def f(i):\n",
    "    global df\n",
    "    xf=df[df[ingredient].str.contains(i,case=False)]\n",
    "    display(xf)\n",
    "    return\n",
    "\n",
    "cb=interactive(f,i=widgets.Combobox(    \n",
    "    placeholder='Choose Ingredient',\n",
    "    options=zutate,\n",
    "    description='>',\n",
    "    ensure_option=False,\n",
    "    disabled=False\n",
    ")\n",
    ")\n",
    "display(cb)\n"
   ]
  }
 ],
 "metadata": {
  "interpreter": {
   "hash": "9c6ee0786fb3cc2e13f8286eabad989233b9127b4bbc58b07f1dbb8da2411d19"
  },
  "kernelspec": {
   "display_name": "Python 3.9.2 64-bit",
   "language": "python",
   "name": "python3"
  },
  "language_info": {
   "codemirror_mode": {
    "name": "ipython",
    "version": 3
   },
   "file_extension": ".py",
   "mimetype": "text/x-python",
   "name": "python",
   "nbconvert_exporter": "python",
   "pygments_lexer": "ipython3",
   "version": "3.9.2"
  },
  "orig_nbformat": 4
 },
 "nbformat": 4,
 "nbformat_minor": 2
}
