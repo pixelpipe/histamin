{
 "cells": [
  {
   "cell_type": "code",
   "execution_count": 40,
   "metadata": {},
   "outputs": [
    {
     "data": {
      "text/html": [
       "<style>\n",
       "    .widget-radio-box {\n",
       "        flex-direction: row !important;     \n",
       "    }\n",
       "    .widget-radio-box label{\n",
       "        margin:3px !important;\n",
       "        width: 90px !important;\n",
       "    }\n",
       "</style>\n"
      ],
      "text/plain": [
       "<IPython.core.display.HTML object>"
      ]
     },
     "metadata": {},
     "output_type": "display_data"
    }
   ],
   "source": [
    "%%html\n",
    "<style>\n",
    "    .widget-radio-box {\n",
    "        flex-direction: row !important;     \n",
    "    }\n",
    "    .widget-radio-box label{\n",
    "        margin:3px !important;\n",
    "        width: 90px !important;\n",
    "    }\n",
    "</style>"
   ]
  },
  {
   "cell_type": "code",
   "execution_count": 57,
   "metadata": {},
   "outputs": [
    {
     "data": {
      "application/vnd.jupyter.widget-view+json": {
       "model_id": "fb47fd269dd049868dca586ddb473e00",
       "version_major": 2,
       "version_minor": 0
      },
      "text/plain": [
       "interactive(children=(RadioButtons(description='Language:', layout=Layout(width='max-content'), options=('Engl…"
      ]
     },
     "metadata": {},
     "output_type": "display_data"
    },
    {
     "data": {
      "application/vnd.jupyter.widget-view+json": {
       "model_id": "0fdc8a1ca92f46d2a30b0011dbfc9b7a",
       "version_major": 2,
       "version_minor": 0
      },
      "text/plain": [
       "interactive(children=(Combobox(value='', description='Ingredient', options=('Egg yolk', 'Eggs, chicken egg, wh…"
      ]
     },
     "metadata": {},
     "output_type": "display_data"
    }
   ],
   "source": [
    "from __future__ import print_function\n",
    "from ipywidgets import interact, interactive, fixed, interact_manual\n",
    "import ipywidgets as widgets\n",
    "from IPython.display import display\n",
    "import pandas as pd\n",
    "import numpy as np\n",
    "\n",
    "pd.set_option(\"display.max_rows\", None, \"display.max_columns\",\n",
    "              None, 'display.max_colwidth', None)\n",
    "\n",
    "ui = {\n",
    "    \"language\": \"ENG\",\n",
    "    \"ingredient\": \"Ingredient\"\n",
    "}\n",
    "\n",
    "allDataFrame = None\n",
    "ingredients = None\n",
    "\n",
    "\n",
    "def load_data(selectedLanguage):\n",
    "    df=None\n",
    "    df = pd.read_excel(f\"Histamin_{selectedLanguage}.xlsx\").fillna(\"\")\n",
    "    column = ui[\"ingredient\"]\n",
    "    iodf = df.loc[:, column]\n",
    "    ioList = iodf.values.tolist()\n",
    "    return df, ioList\n",
    "\n",
    "\n",
    "def engLang():\n",
    "    global ui\n",
    "    ui[\"language\"] = \"ENG\"\n",
    "    ui[\"ingredient\"] = \"Ingredient\"\n",
    "    return ui[\"language\"]\n",
    "\n",
    "\n",
    "def deuLang():\n",
    "    global ui\n",
    "    ui[\"language\"] = \"DEU\"\n",
    "    ui[\"ingredient\"] = \"Zutat\"\n",
    "    return ui[\"language\"]\n",
    "\n",
    "\n",
    "def romLang():\n",
    "    global ui\n",
    "    ui[\"language\"] = \"ROM\"\n",
    "    ui[\"ingredient\"] = \"Ingredient\"\n",
    "    return ui[\"language\"]\n",
    "\n",
    "\n",
    "def spaLang():\n",
    "    global ui\n",
    "    ui[\"language\"] = \"SPA\"\n",
    "    ui[\"ingredient\"] = \"Ingrediente\"\n",
    "    return ui[\"language\"]\n",
    "\n",
    "\n",
    "def itaLang():\n",
    "    global ui\n",
    "    ui[\"language\"] = \"ITA\"\n",
    "    ui[\"ingredient\"] = \"Ingrediente\"\n",
    "    return ui[\"language\"]\n",
    "\n",
    "\n",
    "def polLang():\n",
    "    global ui\n",
    "    ui[\"language\"] = \"POL\"\n",
    "    ui[\"ingredient\"] = \"Składnik\"\n",
    "    return ui[\"language\"]\n",
    "\n",
    "\n",
    "def croLang():\n",
    "    global ui\n",
    "    ui[\"language\"] = \"CRO\"\n",
    "    ui[\"ingredient\"] = \"Sastojak\"\n",
    "    return ui[\"language\"]\n",
    "\n",
    "\n",
    "def rusLang():\n",
    "    global ui\n",
    "    ui[\"language\"] = \"RUS\"\n",
    "    ui[\"ingredient\"] = \"Ингредиент\"\n",
    "    return ui[\"language\"]\n",
    "\n",
    "\n",
    "def japLang():\n",
    "    global ui\n",
    "    ui[\"language\"] = \"JAP\"\n",
    "    ui[\"ingredient\"] = \"材料\"\n",
    "    return ui[\"language\"]\n",
    "\n",
    "def chnLang():\n",
    "    global ui\n",
    "    ui[\"language\"] = \"CHN\"\n",
    "    ui[\"ingredient\"] = \"成分\"\n",
    "    return ui[\"language\"]\n",
    "\n",
    "options = {\"English\": engLang,\n",
    "           \"Deutsch\": deuLang,\n",
    "           \"Română\": romLang,\n",
    "           \"Español\": spaLang,\n",
    "           \"Italiano\": itaLang,\n",
    "           \"Polski\": polLang,\n",
    "           \"Hrvatski\": croLang,\n",
    "           \"Pусский (Russian)\": rusLang,\n",
    "           \"日本語 (Japanese)\" : japLang,\n",
    "           \"简化 (S.Chinese)\" : chnLang\n",
    "           }\n",
    "\n",
    "\n",
    "def handleIngredient(selectedIngredientText):\n",
    "    #searchKeys = selectedIngredientText.split(\",\")\n",
    "    column = ui[\"ingredient\"]\n",
    "    selectedIngredients = allDataFrame[allDataFrame[column].str.contains(\n",
    "        selectedIngredientText, case=False)]\n",
    "    display(selectedIngredients)\n",
    "    return\n",
    "\n",
    "\n",
    "def handleLanguage(selectedLanguage):\n",
    "    global allDataFrame\n",
    "    allDataFrame, ingredientOptions = load_data(options[selectedLanguage]())\n",
    "\n",
    "    cb = None\n",
    "    cb = interactive(handleIngredient, selectedIngredientText=widgets.Combobox(\n",
    "        placeholder=\"Choose\",\n",
    "        options=ingredientOptions,\n",
    "        description=ui[\"ingredient\"],\n",
    "        ensure_option=False,\n",
    "        disabled=False\n",
    "    )\n",
    "    )\n",
    "    display(cb)\n",
    "    return\n",
    "\n",
    "\n",
    "interactive(handleLanguage, selectedLanguage=widgets.RadioButtons(\n",
    "    options=['English', 'Deutsch', 'Română', 'Español',\n",
    "             'Italiano', 'Polski', 'Hrvatski', 'Pусский (Russian)', '日本語 (Japanese)', '简化 (S.Chinese)'],\n",
    "    value='English',\n",
    "    layout={'width': 'max-content'},  # If the items' names are long\n",
    "    description='Language:',\n",
    "    disabled=False\n",
    ")\n",
    ")\n"
   ]
  }
 ],
 "metadata": {
  "interpreter": {
   "hash": "9c6ee0786fb3cc2e13f8286eabad989233b9127b4bbc58b07f1dbb8da2411d19"
  },
  "kernelspec": {
   "display_name": "Python 3.9.2 64-bit",
   "language": "python",
   "name": "python3"
  },
  "language_info": {
   "codemirror_mode": {
    "name": "ipython",
    "version": 3
   },
   "file_extension": ".py",
   "mimetype": "text/x-python",
   "name": "python",
   "nbconvert_exporter": "python",
   "pygments_lexer": "ipython3",
   "version": "3.9.2"
  },
  "orig_nbformat": 4
 },
 "nbformat": 4,
 "nbformat_minor": 2
}
